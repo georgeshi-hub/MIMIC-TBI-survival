{
 "cells": [
  {
   "cell_type": "code",
   "execution_count": 2,
   "metadata": {},
   "outputs": [
    {
     "name": "stderr",
     "output_type": "stream",
     "text": [
      "\n",
      "Bad key \"text.kerning_factor\" on line 4 in\n",
      "/Users/geombpro/anaconda3/lib/python3.7/site-packages/matplotlib/mpl-data/stylelib/_classic_test_patch.mplstyle.\n",
      "You probably need to get an updated matplotlibrc file from\n",
      "https://github.com/matplotlib/matplotlib/blob/v3.1.3/matplotlibrc.template\n",
      "or from the matplotlib source distribution\n"
     ]
    }
   ],
   "source": [
    "# Import libraries\n",
    "import pandas as pd\n",
    "import matplotlib.pyplot as plt\n",
    "import psycopg2\n",
    "import getpass\n",
    "%matplotlib inline\n",
    "plt.style.use('ggplot') \n",
    "# Create a database connection\n",
    "user = 'biggeo'\n",
    "host = 'localhost'\n",
    "dbname = 'mimic'\n",
    "schema = 'mimiciii'\n",
    "pwd = 'shishi'\n",
    "# Connect to the database\n",
    "con = psycopg2.connect(dbname=dbname, user=user, host=host, \n",
    "                       password=pwd)\n",
    "cur = con.cursor()\n",
    "cur.execute('SET search_path to {}'.format(schema))\n"
   ]
  },
  {
   "cell_type": "code",
   "execution_count": 4,
   "metadata": {},
   "outputs": [
    {
     "name": "stdout",
     "output_type": "stream",
     "text": [
      "total data:\n",
      "                 age           gcs  chartdelayhrs  hospital_expire_flag\n",
      "count  20458.000000  20458.000000   20458.000000          20458.000000\n",
      "mean      76.133542     11.791426     100.025907              0.139750\n",
      "std       65.435214      3.176198     154.139733              0.346736\n",
      "min       16.000000      3.000000       0.000000              0.000000\n",
      "25%       44.000000     10.000000      11.000000              0.000000\n",
      "50%       65.000000     13.000000      37.000000              0.000000\n",
      "75%       80.000000     15.000000     124.000000              0.000000\n",
      "max      306.000000     15.000000    1216.000000              1.000000\n"
     ]
    },
    {
     "data": {
      "text/html": [
       "<div>\n",
       "<style scoped>\n",
       "    .dataframe tbody tr th:only-of-type {\n",
       "        vertical-align: middle;\n",
       "    }\n",
       "\n",
       "    .dataframe tbody tr th {\n",
       "        vertical-align: top;\n",
       "    }\n",
       "\n",
       "    .dataframe thead th {\n",
       "        text-align: right;\n",
       "    }\n",
       "</style>\n",
       "<table border=\"1\" class=\"dataframe\">\n",
       "  <thead>\n",
       "    <tr style=\"text-align: right;\">\n",
       "      <th></th>\n",
       "      <th>gender</th>\n",
       "      <th>age</th>\n",
       "      <th>diagnosis</th>\n",
       "      <th>gcs</th>\n",
       "      <th>chartdelayhrs</th>\n",
       "      <th>icd9_code</th>\n",
       "      <th>hospital_expire_flag</th>\n",
       "    </tr>\n",
       "  </thead>\n",
       "  <tbody>\n",
       "    <tr>\n",
       "      <th>1</th>\n",
       "      <td>F</td>\n",
       "      <td>82.0</td>\n",
       "      <td>HEAD BLEED</td>\n",
       "      <td>14.0</td>\n",
       "      <td>19.0</td>\n",
       "      <td>85220</td>\n",
       "      <td>0</td>\n",
       "    </tr>\n",
       "    <tr>\n",
       "      <th>4</th>\n",
       "      <td>F</td>\n",
       "      <td>82.0</td>\n",
       "      <td>HEAD BLEED</td>\n",
       "      <td>15.0</td>\n",
       "      <td>19.0</td>\n",
       "      <td>85220</td>\n",
       "      <td>0</td>\n",
       "    </tr>\n",
       "    <tr>\n",
       "      <th>12</th>\n",
       "      <td>M</td>\n",
       "      <td>62.0</td>\n",
       "      <td>BLUNT TRAUMA</td>\n",
       "      <td>15.0</td>\n",
       "      <td>261.0</td>\n",
       "      <td>80130</td>\n",
       "      <td>0</td>\n",
       "    </tr>\n",
       "    <tr>\n",
       "      <th>70</th>\n",
       "      <td>F</td>\n",
       "      <td>81.0</td>\n",
       "      <td>ACUTE SUBDURAL HEMATOMA</td>\n",
       "      <td>15.0</td>\n",
       "      <td>5.0</td>\n",
       "      <td>85221</td>\n",
       "      <td>0</td>\n",
       "    </tr>\n",
       "    <tr>\n",
       "      <th>71</th>\n",
       "      <td>F</td>\n",
       "      <td>81.0</td>\n",
       "      <td>ACUTE SUBDURAL HEMATOMA</td>\n",
       "      <td>15.0</td>\n",
       "      <td>37.0</td>\n",
       "      <td>85221</td>\n",
       "      <td>0</td>\n",
       "    </tr>\n",
       "  </tbody>\n",
       "</table>\n",
       "</div>"
      ],
      "text/plain": [
       "   gender   age                diagnosis   gcs  chartdelayhrs icd9_code  \\\n",
       "1       F  82.0               HEAD BLEED  14.0           19.0     85220   \n",
       "4       F  82.0               HEAD BLEED  15.0           19.0     85220   \n",
       "12      M  62.0             BLUNT TRAUMA  15.0          261.0     80130   \n",
       "70      F  81.0  ACUTE SUBDURAL HEMATOMA  15.0            5.0     85221   \n",
       "71      F  81.0  ACUTE SUBDURAL HEMATOMA  15.0           37.0     85221   \n",
       "\n",
       "    hospital_expire_flag  \n",
       "1                      0  \n",
       "4                      0  \n",
       "12                     0  \n",
       "70                     0  \n",
       "71                     0  "
      ]
     },
     "execution_count": 4,
     "metadata": {},
     "output_type": "execute_result"
    }
   ],
   "source": [
    "#prepare data frame\n",
    "query_TBI_ML = \\\n",
    "\"\"\"\n",
    "SELECT  \n",
    "\n",
    "/*COUNT( distinct ad.hadm_id)*/\n",
    "\t\tpa.gender,\n",
    "\t\t(DATE_PART('year', ad.admittime::date) - DATE_PART('year', pa.dob::date)) AS age,\n",
    "\t\tad.diagnosis,\n",
    "\t\tad.hadm_id,\n",
    "/*\t\tad.admittime,\n",
    "\t\tad.dischtime,\n",
    "\t\ticu.icustay_id,*/\n",
    "\t\tgcs.gcs,\n",
    "        DATE_PART('day', ne.charttime::timestamp - ad.admittime::timestamp) * 24 + \n",
    "              DATE_PART('hour', ne.charttime::timestamp - ad.admittime::timestamp) AS chartdelayhrs,\n",
    "/*\t\tne.description,\n",
    "\t\tne.text,*/\n",
    "\t\td.icd9_code,\n",
    "\t\tad.hospital_expire_flag   \n",
    "FROM mimiciii.admissions AS ad\n",
    "INNER JOIN mimiciii.icustays AS icu ON ad.hadm_id = icu.hadm_id\n",
    "INNER JOIN mimiciii.pivoted_gcs AS gcs ON icu.icustay_id = gcs.icustay_id\n",
    "INNER JOIN mimiciii.noteevents AS ne ON ne.hadm_id = ad.hadm_id\n",
    "INNER JOIN mimiciii.diagnoses_icd AS d ON d.hadm_id = ad.hadm_id\n",
    "INNER JOIN mimiciii.patients AS pa ON pa.subject_id = ad.subject_id\n",
    "WHERE \t\n",
    "\t\t\n",
    "/*\t\t(gcs.gcs >= 13 \n",
    "\t\tAND gcs.gcs <= 15)\n",
    "\t\tAND */\n",
    "\t\tlower(ne.description) like '%ct head%' \n",
    "\t\tAND \n",
    "\t\t(\n",
    "\t\t\t(d.icd9_code >= '8010' \n",
    "\t\t\tAND d.icd9_code < '8019')\n",
    "\t\tOR \n",
    "\t\t\t(d.icd9_code >= '8030' \n",
    "\t\t\tAND d.icd9_code < '8049')\n",
    "\t\tOR\n",
    "\t\t\t(d.icd9_code >= '85' \n",
    "\t\t\tAND d.icd9_code < '8541')\n",
    "\t\tOR\n",
    "\t\t\t(d.icd9_code >= '951' \n",
    "\t\t\tAND d.icd9_code < '953')\n",
    "\t\tOR\n",
    "\t\t\td.icd9_code IN ('95555', '95901')\n",
    "\t\t)\n",
    "/*\t\tAND ad.hospital_expire_flag = 1 */\n",
    "\n",
    " \n",
    "\"\"\"\n",
    "data_TBI_ML = pd.read_sql_query(query_TBI_ML,con)\n",
    "#data_TBI = pd.DataFrame(data_TBI)\n",
    "#data_TBI.fillna({'label':'Other', 'flag':'normal'}, inplace=True)\n",
    "data_TBI_ML.drop_duplicates(inplace = True)\n",
    "#remove negative delay rows\n",
    "data_TBI_ML.drop(data_TBI_ML[data_TBI_ML.chartdelayhrs <0].index, inplace=True)\n",
    "#remove hadm_id\n",
    "data_TBI_ML.drop(['hadm_id'], axis=1, inplace=True)\n",
    "print(\"total data:\\n\", data_TBI_ML.describe())\n",
    "\n",
    "data_TBI_ML.head()\n"
   ]
  },
  {
   "cell_type": "code",
   "execution_count": 382,
   "metadata": {},
   "outputs": [],
   "source": [
    "#data_TBI_ML.to_csv(\"TBI_ML.csv\", index=False)"
   ]
  },
  {
   "cell_type": "code",
   "execution_count": 383,
   "metadata": {},
   "outputs": [],
   "source": [
    "#data_TBI_ML = pd.read_csv(\"TBI_ML.csv\", index_col=0)\n",
    "#data_TBI_ML.head()"
   ]
  },
  {
   "cell_type": "code",
   "execution_count": 384,
   "metadata": {},
   "outputs": [],
   "source": [
    "#data_unique is to query all unique value for categorical columns, to avoid error in imputation\n",
    "# data_unique | yu (786 rows)\n",
    "# data_TBI_ML -> do test_valid split (70-30)\n",
    "# test (2000 rows)\n",
    "# Then add data_unique back into train data, not valid data\n",
    "data_unique = pd.DataFrame()\n",
    "for i in data_TBI_ML['diagnosis'].unique():\n",
    "    criteria = \"diagnosis == \\\"\" + i +\"\\\"\"\n",
    "    data_unique = pd.concat([data_unique,(data_TBI_ML.query(criteria).head(1))])\n",
    "for j in data_TBI_ML['icd9_code'].unique():\n",
    "    criteria = \"icd9_code == \\\"\" + j +\"\\\"\"\n",
    "    data_unique = pd.concat([data_unique,(data_TBI_ML.query(criteria).head(1))])\n",
    "#print(\"data unique:\\n\",data_unique.describe())\n",
    "\n",
    "data_TBI_ML.drop(data_unique.index, inplace=True)\n",
    "#data_TBI_ML.describe()\n",
    "test = data_TBI_ML.sample(n=2000)\n",
    "#test.describe()\n",
    "data_TBI_ML.drop(test.index, inplace=True)\n",
    "#data_TBI_ML.describe()"
   ]
  },
  {
   "cell_type": "code",
   "execution_count": 385,
   "metadata": {},
   "outputs": [],
   "source": [
    "# Remove rows with missing target, separate target from predictors\n",
    "\n",
    "X=data_TBI_ML\n",
    "y = X.hospital_expire_flag\n",
    "X.drop(['hospital_expire_flag'], axis=1, inplace=True)\n",
    "\n",
    "# Break off validation set from training data\n",
    "X_train, X_valid, y_train, y_valid = train_test_split(X, y, train_size=0.7, test_size=0.3,\n",
    "                                                      random_state=0)\n",
    "\n",
    "#add unique set to the top of training set\n",
    "\n",
    "yu = data_unique.hospital_expire_flag\n",
    "data_unique.drop(['hospital_expire_flag'], axis=1, inplace=True)\n",
    "\n",
    "X_train = pd.concat([data_unique, X_train])\n",
    "y_train = pd.concat([yu, y_train])\n",
    "#X_train.head()\n",
    "#X_valid.head()"
   ]
  },
  {
   "cell_type": "code",
   "execution_count": 386,
   "metadata": {},
   "outputs": [],
   "source": [
    "#no missing value\n",
    "#missing_val_count_by_column = (X_train.isnull().sum())\n",
    "#print(missing_val_count_by_column[missing_val_count_by_column > 0])\n"
   ]
  },
  {
   "cell_type": "code",
   "execution_count": 387,
   "metadata": {},
   "outputs": [],
   "source": [
    "#cols_with_missing = [col for col in X_train.columns if X_train[col].isnull().any()]\n",
    "# Fill in the lines below: drop columns in training and validation data\n",
    "#reduced_X_train = X_train.drop(['Cabin','Embarked','Name', 'Ticket'], axis = 1)\n",
    "#reduced_X_valid = X_valid.drop(['Cabin','Embarked','Name', 'Ticket'], axis = 1)\n",
    "#reduced_X_test = X_test.drop(['Cabin','Embarked','Name', 'Ticket'], axis = 1)"
   ]
  },
  {
   "cell_type": "code",
   "execution_count": 388,
   "metadata": {},
   "outputs": [
    {
     "name": "stdout",
     "output_type": "stream",
     "text": [
      "Categorical variables:\n",
      "['gender', 'diagnosis', 'icd9_code']\n"
     ]
    }
   ],
   "source": [
    "# Get list of categorical variables\n",
    "s = (X_train.dtypes == 'object')\n",
    "object_cols = list(s[s].index)\n",
    "\n",
    "print(\"Categorical variables:\")\n",
    "print(object_cols)"
   ]
  },
  {
   "cell_type": "code",
   "execution_count": 389,
   "metadata": {},
   "outputs": [
    {
     "data": {
      "text/html": [
       "<div>\n",
       "<style scoped>\n",
       "    .dataframe tbody tr th:only-of-type {\n",
       "        vertical-align: middle;\n",
       "    }\n",
       "\n",
       "    .dataframe tbody tr th {\n",
       "        vertical-align: top;\n",
       "    }\n",
       "\n",
       "    .dataframe thead th {\n",
       "        text-align: right;\n",
       "    }\n",
       "</style>\n",
       "<table border=\"1\" class=\"dataframe\">\n",
       "  <thead>\n",
       "    <tr style=\"text-align: right;\">\n",
       "      <th></th>\n",
       "      <th>gender</th>\n",
       "      <th>age</th>\n",
       "      <th>diagnosis</th>\n",
       "      <th>gcs</th>\n",
       "      <th>chartdelayhrs</th>\n",
       "      <th>icd9_code</th>\n",
       "    </tr>\n",
       "  </thead>\n",
       "  <tbody>\n",
       "    <tr>\n",
       "      <th>150886</th>\n",
       "      <td>M</td>\n",
       "      <td>23.0</td>\n",
       "      <td>MULTIPLE TRAUMA</td>\n",
       "      <td>15.0</td>\n",
       "      <td>1073.0</td>\n",
       "      <td>80141</td>\n",
       "    </tr>\n",
       "    <tr>\n",
       "      <th>164077</th>\n",
       "      <td>M</td>\n",
       "      <td>60.0</td>\n",
       "      <td>S/P FALL</td>\n",
       "      <td>15.0</td>\n",
       "      <td>185.0</td>\n",
       "      <td>80120</td>\n",
       "    </tr>\n",
       "    <tr>\n",
       "      <th>555281</th>\n",
       "      <td>F</td>\n",
       "      <td>85.0</td>\n",
       "      <td>INTRACRANIAL HEMORRHAGE</td>\n",
       "      <td>13.0</td>\n",
       "      <td>1.0</td>\n",
       "      <td>85220</td>\n",
       "    </tr>\n",
       "    <tr>\n",
       "      <th>71961</th>\n",
       "      <td>F</td>\n",
       "      <td>44.0</td>\n",
       "      <td>S/P FALL;DROWNING</td>\n",
       "      <td>12.0</td>\n",
       "      <td>42.0</td>\n",
       "      <td>80336</td>\n",
       "    </tr>\n",
       "    <tr>\n",
       "      <th>64865</th>\n",
       "      <td>F</td>\n",
       "      <td>85.0</td>\n",
       "      <td>SUBARACHNOID</td>\n",
       "      <td>13.0</td>\n",
       "      <td>90.0</td>\n",
       "      <td>85221</td>\n",
       "    </tr>\n",
       "  </tbody>\n",
       "</table>\n",
       "</div>"
      ],
      "text/plain": [
       "       gender   age                diagnosis   gcs  chartdelayhrs icd9_code\n",
       "150886      M  23.0          MULTIPLE TRAUMA  15.0         1073.0     80141\n",
       "164077      M  60.0                 S/P FALL  15.0          185.0     80120\n",
       "555281      F  85.0  INTRACRANIAL HEMORRHAGE  13.0            1.0     85220\n",
       "71961       F  44.0        S/P FALL;DROWNING  12.0           42.0     80336\n",
       "64865       F  85.0             SUBARACHNOID  13.0           90.0     85221"
      ]
     },
     "execution_count": 389,
     "metadata": {},
     "output_type": "execute_result"
    }
   ],
   "source": [
    "tt = test\n",
    "y_test = tt.hospital_expire_flag\n",
    "X_test = tt.drop(['hospital_expire_flag'], axis=1)\n",
    "X_test.head()"
   ]
  },
  {
   "cell_type": "code",
   "execution_count": 390,
   "metadata": {},
   "outputs": [],
   "source": [
    "#data_tr_val = pd.concat([data_unique, data_TBI_ML])\n",
    "#X = data_tr_val.reset_index()\n",
    "#tt = test.reset_index()\n",
    "\n"
   ]
  },
  {
   "cell_type": "code",
   "execution_count": 391,
   "metadata": {},
   "outputs": [],
   "source": [
    "from sklearn.preprocessing import LabelEncoder\n",
    "\n",
    "# Make copy to avoid changing original data \n",
    "label_X_train = X_train.copy()\n",
    "label_X_valid = X_valid.copy()\n",
    "label_X_test = X_test.copy()\n",
    "\n",
    "# Apply label encoder to each column with categorical data\n",
    "label_encoder = LabelEncoder()\n",
    "for col in object_cols:\n",
    "    label_X_train[col] = label_encoder.fit_transform(X_train[col])\n",
    "    label_X_valid[col] = label_encoder.transform(X_valid[col])\n",
    "    label_X_test[col] = label_encoder.transform(X_test[col])\n",
    "\n",
    "#print(\"MAE from Approach 2 (Label Encoding):\") \n",
    "#print(score_dataset(label_X_train, label_X_valid, y_train, y_valid))"
   ]
  },
  {
   "cell_type": "code",
   "execution_count": 392,
   "metadata": {},
   "outputs": [],
   "source": [
    "from sklearn.impute import SimpleImputer\n",
    "\n",
    "# Fill in the lines below: imputation\n",
    " # Your code here\n",
    "# Imputation\n",
    "my_imputer = SimpleImputer()\n",
    "imputed_X_train = pd.DataFrame(my_imputer.fit_transform(label_X_train))\n",
    "imputed_X_valid = pd.DataFrame(my_imputer.transform(label_X_valid))\n",
    "imputed_X_test = pd.DataFrame(my_imputer.transform(label_X_test))\n",
    "\n",
    "# Imputation removed column names; put them back\n",
    "imputed_X_train.columns = label_X_train.columns\n",
    "imputed_X_valid.columns = label_X_valid.columns\n",
    "imputed_X_test.columns = label_X_test.columns"
   ]
  },
  {
   "cell_type": "code",
   "execution_count": null,
   "metadata": {},
   "outputs": [],
   "source": []
  },
  {
   "cell_type": "code",
   "execution_count": 413,
   "metadata": {},
   "outputs": [
    {
     "name": "stdout",
     "output_type": "stream",
     "text": [
      "=== Confusion Matrix ===\n",
      "[[4568    9]\n",
      " [  61  687]]\n",
      "\n",
      "\n",
      "=== Classification Report ===\n",
      "              precision    recall  f1-score   support\n",
      "\n",
      "           0       0.99      1.00      0.99      4577\n",
      "           1       0.99      0.92      0.95       748\n",
      "\n",
      "    accuracy                           0.99      5325\n",
      "   macro avg       0.99      0.96      0.97      5325\n",
      "weighted avg       0.99      0.99      0.99      5325\n",
      "\n",
      "\n",
      "\n",
      "=== Model Score ===\n",
      "98.69\n"
     ]
    }
   ],
   "source": [
    "# data analysis and wrangling\n",
    "import numpy as np\n",
    "import random as rnd\n",
    "\n",
    "# machine learning\n",
    "from sklearn.linear_model import LogisticRegression\n",
    "from sklearn.svm import SVC, LinearSVC\n",
    "from sklearn.ensemble import RandomForestClassifier\n",
    "from sklearn.neighbors import KNeighborsClassifier\n",
    "from sklearn.naive_bayes import GaussianNB\n",
    "from sklearn.linear_model import Perceptron\n",
    "from sklearn.linear_model import SGDClassifier\n",
    "from sklearn.tree import DecisionTreeClassifier\n",
    "from sklearn.model_selection import train_test_split\n",
    "from sklearn.ensemble import RandomForestRegressor\n",
    "#from sklearn.metrics import mean_absolute_error\n",
    "from sklearn.metrics import classification_report, confusion_matrix\n",
    "\n",
    "\n",
    "\n",
    "\n",
    "# Function for comparing different approaches\n",
    "from sklearn import model_selection\n",
    "\n",
    "\n",
    "model = RandomForestClassifier(n_estimators=200, random_state=0)\n",
    "\n",
    "#model = DecisionTreeClassifier()\n",
    "\n",
    "model.fit(imputed_X_train, y_train)\n",
    "preds = model.predict(imputed_X_valid)\n",
    "print(\"=== Confusion Matrix ===\")\n",
    "print(confusion_matrix(y_valid, preds.round()))\n",
    "print('\\n')\n",
    "print(\"=== Classification Report ===\")\n",
    "print(classification_report(y_valid, preds.round()))\n",
    "print('\\n')\n",
    "\n",
    "print(\"=== Model Score ===\")\n",
    "    \n",
    "print(round(model.score(imputed_X_valid, y_valid) * 100, 2))\n",
    "\n",
    "\n"
   ]
  },
  {
   "cell_type": "code",
   "execution_count": 415,
   "metadata": {},
   "outputs": [
    {
     "data": {
      "text/plain": [
       "array([0.03422624, 0.26665885, 0.25361925, 0.0767454 , 0.13740596,\n",
       "       0.2313443 ])"
      ]
     },
     "execution_count": 415,
     "metadata": {},
     "output_type": "execute_result"
    }
   ],
   "source": [
    "model.feature_importances_"
   ]
  },
  {
   "cell_type": "code",
   "execution_count": 409,
   "metadata": {},
   "outputs": [
    {
     "name": "stdout",
     "output_type": "stream",
     "text": [
      "Feature: gender, \t Score: 0.03423\n",
      "Feature: age, \t Score: 0.26666\n",
      "Feature: diagnosis, \t Score: 0.25362\n",
      "Feature: gcs, \t Score: 0.07675\n",
      "Feature: chartdelayhrs, \t Score: 0.13741\n",
      "Feature: icd9_code, \t Score: 0.23134\n"
     ]
    },
    {
     "data": {
      "image/png": "[encoded data removed]",
      "text/plain": [
       "<Figure size 432x288 with 1 Axes>"
      ]
     },
     "metadata": {},
     "output_type": "display_data"
    }
   ],
   "source": [
    "from sklearn.datasets import make_regression\n",
    "from sklearn.tree import DecisionTreeRegressor\n",
    "from matplotlib import pyplot\n",
    "\n",
    "importance = model.feature_importances_\n",
    "# summarize feature importance\n",
    "for i,v in enumerate(importance):\n",
    "\tprint('Feature: %0s, \\t Score: %.5f' % (imputed_X_valid.columns[i],v))\n",
    "# plot feature importance\n",
    "pyplot.bar([imputed_X_valid.columns[x] for x in range(len(importance))], importance)\n",
    "pyplot.show()"
   ]
  },
  {
   "cell_type": "code",
   "execution_count": null,
   "metadata": {},
   "outputs": [],
   "source": []
  },
  {
   "cell_type": "code",
   "execution_count": null,
   "metadata": {},
   "outputs": [],
   "source": []
  },
  {
   "cell_type": "code",
   "execution_count": null,
   "metadata": {},
   "outputs": [],
   "source": []
  },
  {
   "cell_type": "code",
   "execution_count": 410,
   "metadata": {},
   "outputs": [
    {
     "data": {
      "image/png": "[encoded data removed]",
      "text/plain": [
       "<Figure size 432x288 with 1 Axes>"
      ]
     },
     "metadata": {},
     "output_type": "display_data"
    },
    {
     "data": {
      "text/plain": [
       "\"# method II: ggplot\\nfrom ggplot import *\\ndf = pd.DataFrame(dict(fpr = fpr, tpr = tpr))\\nggplot(df, aes(x = 'fpr', y = 'tpr')) + geom_line() + geom_abline(linetype = 'dashed')\""
      ]
     },
     "execution_count": 410,
     "metadata": {},
     "output_type": "execute_result"
    }
   ],
   "source": [
    "import scikitplot as skplt\n",
    "import matplotlib.pyplot as plt\n",
    "\n",
    "\n",
    "\n",
    "import sklearn.metrics as metrics\n",
    "# calculate the fpr and tpr for all thresholds of the classification\n",
    "#probs = preds\n",
    "#preds = probs[:,1]\n",
    "fpr, tpr, threshold = metrics.roc_curve(y_valid, preds.round())\n",
    "roc_auc = metrics.auc(fpr, tpr)\n",
    "\n",
    "\n",
    "# method I: plt\n",
    "import matplotlib.pyplot as plt\n",
    "plt.title('Receiver Operating Characteristic')\n",
    "plt.plot(fpr, tpr, 'b', label = 'AUC = %0.2f' % roc_auc)\n",
    "plt.legend(loc = 'lower right')\n",
    "plt.plot([0, 1], [0, 1],'r--')\n",
    "plt.xlim([-0.02, 1.02])\n",
    "plt.ylim([-0.02, 1.02])\n",
    "plt.ylabel('True Positive Rate')\n",
    "plt.xlabel('False Positive Rate')\n",
    "plt.show()\n",
    "\n",
    "\n",
    "'''# method II: ggplot\n",
    "from ggplot import *\n",
    "df = pd.DataFrame(dict(fpr = fpr, tpr = tpr))\n",
    "ggplot(df, aes(x = 'fpr', y = 'tpr')) + geom_line() + geom_abline(linetype = 'dashed')'''"
   ]
  },
  {
   "cell_type": "code",
   "execution_count": null,
   "metadata": {},
   "outputs": [],
   "source": []
  },
  {
   "cell_type": "code",
   "execution_count": null,
   "metadata": {},
   "outputs": [],
   "source": [
    "\n"
   ]
  },
  {
   "cell_type": "code",
   "execution_count": 411,
   "metadata": {},
   "outputs": [
    {
     "name": "stderr",
     "output_type": "stream",
     "text": [
      "/Users/geombpro/anaconda3/lib/python3.7/site-packages/sklearn/model_selection/_split.py:296: FutureWarning: Setting a random_state has no effect since shuffle is False. This will raise an error in 0.24. You should leave random_state to its default (None), or set shuffle=True.\n",
      "  FutureWarning\n",
      "/Users/geombpro/anaconda3/lib/python3.7/site-packages/sklearn/linear_model/_logistic.py:940: ConvergenceWarning: lbfgs failed to converge (status=1):\n",
      "STOP: TOTAL NO. of ITERATIONS REACHED LIMIT.\n",
      "\n",
      "Increase the number of iterations (max_iter) or scale the data as shown in:\n",
      "    https://scikit-learn.org/stable/modules/preprocessing.html\n",
      "Please also refer to the documentation for alternative solver options:\n",
      "    https://scikit-learn.org/stable/modules/linear_model.html#logistic-regression\n",
      "  extra_warning_msg=_LOGISTIC_SOLVER_CONVERGENCE_MSG)\n",
      "/Users/geombpro/anaconda3/lib/python3.7/site-packages/sklearn/linear_model/_logistic.py:940: ConvergenceWarning: lbfgs failed to converge (status=1):\n",
      "STOP: TOTAL NO. of ITERATIONS REACHED LIMIT.\n",
      "\n",
      "Increase the number of iterations (max_iter) or scale the data as shown in:\n",
      "    https://scikit-learn.org/stable/modules/preprocessing.html\n",
      "Please also refer to the documentation for alternative solver options:\n",
      "    https://scikit-learn.org/stable/modules/linear_model.html#logistic-regression\n",
      "  extra_warning_msg=_LOGISTIC_SOLVER_CONVERGENCE_MSG)\n",
      "/Users/geombpro/anaconda3/lib/python3.7/site-packages/sklearn/linear_model/_logistic.py:940: ConvergenceWarning: lbfgs failed to converge (status=1):\n",
      "STOP: TOTAL NO. of ITERATIONS REACHED LIMIT.\n",
      "\n",
      "Increase the number of iterations (max_iter) or scale the data as shown in:\n",
      "    https://scikit-learn.org/stable/modules/preprocessing.html\n",
      "Please also refer to the documentation for alternative solver options:\n",
      "    https://scikit-learn.org/stable/modules/linear_model.html#logistic-regression\n",
      "  extra_warning_msg=_LOGISTIC_SOLVER_CONVERGENCE_MSG)\n",
      "/Users/geombpro/anaconda3/lib/python3.7/site-packages/sklearn/linear_model/_logistic.py:940: ConvergenceWarning: lbfgs failed to converge (status=1):\n",
      "STOP: TOTAL NO. of ITERATIONS REACHED LIMIT.\n",
      "\n",
      "Increase the number of iterations (max_iter) or scale the data as shown in:\n",
      "    https://scikit-learn.org/stable/modules/preprocessing.html\n",
      "Please also refer to the documentation for alternative solver options:\n",
      "    https://scikit-learn.org/stable/modules/linear_model.html#logistic-regression\n",
      "  extra_warning_msg=_LOGISTIC_SOLVER_CONVERGENCE_MSG)\n",
      "/Users/geombpro/anaconda3/lib/python3.7/site-packages/sklearn/linear_model/_logistic.py:940: ConvergenceWarning: lbfgs failed to converge (status=1):\n",
      "STOP: TOTAL NO. of ITERATIONS REACHED LIMIT.\n",
      "\n",
      "Increase the number of iterations (max_iter) or scale the data as shown in:\n",
      "    https://scikit-learn.org/stable/modules/preprocessing.html\n",
      "Please also refer to the documentation for alternative solver options:\n",
      "    https://scikit-learn.org/stable/modules/linear_model.html#logistic-regression\n",
      "  extra_warning_msg=_LOGISTIC_SOLVER_CONVERGENCE_MSG)\n",
      "/Users/geombpro/anaconda3/lib/python3.7/site-packages/sklearn/linear_model/_logistic.py:940: ConvergenceWarning: lbfgs failed to converge (status=1):\n",
      "STOP: TOTAL NO. of ITERATIONS REACHED LIMIT.\n",
      "\n",
      "Increase the number of iterations (max_iter) or scale the data as shown in:\n",
      "    https://scikit-learn.org/stable/modules/preprocessing.html\n",
      "Please also refer to the documentation for alternative solver options:\n",
      "    https://scikit-learn.org/stable/modules/linear_model.html#logistic-regression\n",
      "  extra_warning_msg=_LOGISTIC_SOLVER_CONVERGENCE_MSG)\n",
      "/Users/geombpro/anaconda3/lib/python3.7/site-packages/sklearn/linear_model/_logistic.py:940: ConvergenceWarning: lbfgs failed to converge (status=1):\n",
      "STOP: TOTAL NO. of ITERATIONS REACHED LIMIT.\n",
      "\n",
      "Increase the number of iterations (max_iter) or scale the data as shown in:\n",
      "    https://scikit-learn.org/stable/modules/preprocessing.html\n",
      "Please also refer to the documentation for alternative solver options:\n",
      "    https://scikit-learn.org/stable/modules/linear_model.html#logistic-regression\n",
      "  extra_warning_msg=_LOGISTIC_SOLVER_CONVERGENCE_MSG)\n",
      "/Users/geombpro/anaconda3/lib/python3.7/site-packages/sklearn/linear_model/_logistic.py:940: ConvergenceWarning: lbfgs failed to converge (status=1):\n",
      "STOP: TOTAL NO. of ITERATIONS REACHED LIMIT.\n",
      "\n",
      "Increase the number of iterations (max_iter) or scale the data as shown in:\n",
      "    https://scikit-learn.org/stable/modules/preprocessing.html\n",
      "Please also refer to the documentation for alternative solver options:\n",
      "    https://scikit-learn.org/stable/modules/linear_model.html#logistic-regression\n",
      "  extra_warning_msg=_LOGISTIC_SOLVER_CONVERGENCE_MSG)\n",
      "/Users/geombpro/anaconda3/lib/python3.7/site-packages/sklearn/linear_model/_logistic.py:940: ConvergenceWarning: lbfgs failed to converge (status=1):\n",
      "STOP: TOTAL NO. of ITERATIONS REACHED LIMIT.\n",
      "\n",
      "Increase the number of iterations (max_iter) or scale the data as shown in:\n",
      "    https://scikit-learn.org/stable/modules/preprocessing.html\n",
      "Please also refer to the documentation for alternative solver options:\n",
      "    https://scikit-learn.org/stable/modules/linear_model.html#logistic-regression\n",
      "  extra_warning_msg=_LOGISTIC_SOLVER_CONVERGENCE_MSG)\n",
      "/Users/geombpro/anaconda3/lib/python3.7/site-packages/sklearn/linear_model/_logistic.py:940: ConvergenceWarning: lbfgs failed to converge (status=1):\n",
      "STOP: TOTAL NO. of ITERATIONS REACHED LIMIT.\n",
      "\n",
      "Increase the number of iterations (max_iter) or scale the data as shown in:\n",
      "    https://scikit-learn.org/stable/modules/preprocessing.html\n",
      "Please also refer to the documentation for alternative solver options:\n",
      "    https://scikit-learn.org/stable/modules/linear_model.html#logistic-regression\n",
      "  extra_warning_msg=_LOGISTIC_SOLVER_CONVERGENCE_MSG)\n",
      "/Users/geombpro/anaconda3/lib/python3.7/site-packages/sklearn/model_selection/_split.py:296: FutureWarning: Setting a random_state has no effect since shuffle is False. This will raise an error in 0.24. You should leave random_state to its default (None), or set shuffle=True.\n",
      "  FutureWarning\n"
     ]
    },
    {
     "name": "stdout",
     "output_type": "stream",
     "text": [
      "LR: 0.772129 (0.052097)\n",
      "LDA: 0.773462 (0.051592)\n",
      "KNN: 0.726555 (0.061821)\n",
      "CART: 0.692601 (0.058479)\n",
      "NB: 0.755178 (0.042766)\n",
      "SVM: 0.760424 (0.052931)\n"
     ]
    },
    {
     "name": "stderr",
     "output_type": "stream",
     "text": [
      "/Users/geombpro/anaconda3/lib/python3.7/site-packages/sklearn/model_selection/_split.py:296: FutureWarning: Setting a random_state has no effect since shuffle is False. This will raise an error in 0.24. You should leave random_state to its default (None), or set shuffle=True.\n",
      "  FutureWarning\n",
      "/Users/geombpro/anaconda3/lib/python3.7/site-packages/sklearn/model_selection/_split.py:296: FutureWarning: Setting a random_state has no effect since shuffle is False. This will raise an error in 0.24. You should leave random_state to its default (None), or set shuffle=True.\n",
      "  FutureWarning\n",
      "/Users/geombpro/anaconda3/lib/python3.7/site-packages/sklearn/model_selection/_split.py:296: FutureWarning: Setting a random_state has no effect since shuffle is False. This will raise an error in 0.24. You should leave random_state to its default (None), or set shuffle=True.\n",
      "  FutureWarning\n",
      "/Users/geombpro/anaconda3/lib/python3.7/site-packages/sklearn/model_selection/_split.py:296: FutureWarning: Setting a random_state has no effect since shuffle is False. This will raise an error in 0.24. You should leave random_state to its default (None), or set shuffle=True.\n",
      "  FutureWarning\n",
      "/Users/geombpro/anaconda3/lib/python3.7/site-packages/sklearn/model_selection/_split.py:296: FutureWarning: Setting a random_state has no effect since shuffle is False. This will raise an error in 0.24. You should leave random_state to its default (None), or set shuffle=True.\n",
      "  FutureWarning\n"
     ]
    },
    {
     "name": "stdout",
     "output_type": "stream",
     "text": [
      "RF: 0.772078 (0.065269)\n"
     ]
    },
    {
     "data": {
      "image/png": "[encoded data removed]",
      "text/plain": [
       "<Figure size 432x288 with 1 Axes>"
      ]
     },
     "metadata": {},
     "output_type": "display_data"
    }
   ],
   "source": [
    "\n",
    "# Compare Algorithms\n",
    "import pandas\n",
    "import matplotlib.pyplot as plt\n",
    "from sklearn import model_selection\n",
    "from sklearn.linear_model import LogisticRegression\n",
    "from sklearn.tree import DecisionTreeClassifier\n",
    "from sklearn.neighbors import KNeighborsClassifier\n",
    "from sklearn.discriminant_analysis import LinearDiscriminantAnalysis\n",
    "from sklearn.naive_bayes import GaussianNB\n",
    "from sklearn.svm import SVC\n",
    "# load dataset\n",
    "url = \"https://raw.githubusercontent.com/jbrownlee/Datasets/master/pima-indians-diabetes.data.csv\"\n",
    "names = ['preg', 'plas', 'pres', 'skin', 'test', 'mass', 'pedi', 'age', 'class']\n",
    "dataframe = pandas.read_csv(url, names=names)\n",
    "array = dataframe.values\n",
    "X = array[:,0:8]\n",
    "Y = array[:,8]\n",
    "# prepare configuration for cross validation test harness\n",
    "seed = 7\n",
    "# prepare models\n",
    "models = []\n",
    "models.append(('LR', LogisticRegression()))\n",
    "models.append(('LDA', LinearDiscriminantAnalysis()))\n",
    "models.append(('KNN', KNeighborsClassifier()))\n",
    "models.append(('CART', DecisionTreeClassifier()))\n",
    "models.append(('NB', GaussianNB()))\n",
    "models.append(('SVM', SVC()))\n",
    "models.append(('RF', RandomForestClassifier()))\n",
    "# evaluate each model in turn\n",
    "results = []\n",
    "names = []\n",
    "scoring = 'accuracy'\n",
    "for name, model in models:\n",
    "\tkfold = model_selection.KFold(n_splits=10, random_state=seed)\n",
    "\tcv_results = model_selection.cross_val_score(model, X, Y, cv=kfold, scoring=scoring)\n",
    "\tresults.append(cv_results)\n",
    "\tnames.append(name)\n",
    "\tmsg = \"%s: %f (%f)\" % (name, cv_results.mean(), cv_results.std())\n",
    "\tprint(msg)\n",
    "# boxplot algorithm comparison\n",
    "fig = plt.figure()\n",
    "fig.suptitle('Algorithm Comparison')\n",
    "ax = fig.add_subplot(111)\n",
    "plt.boxplot(results)\n",
    "ax.set_xticklabels(names)\n",
    "plt.show()\n"
   ]
  },
  {
   "cell_type": "code",
   "execution_count": null,
   "metadata": {},
   "outputs": [],
   "source": []
  }
 ],
 "metadata": {
  "kernelspec": {
   "display_name": "Python 3",
   "language": "python",
   "name": "python3"
  },
  "language_info": {
   "codemirror_mode": {
    "name": "ipython",
    "version": 3
   },
   "file_extension": ".py",
   "mimetype": "text/x-python",
   "name": "python",
   "nbconvert_exporter": "python",
   "pygments_lexer": "ipython3",
   "version": "3.7.3"
  }
 },
 "nbformat": 4,
 "nbformat_minor": 4
}
